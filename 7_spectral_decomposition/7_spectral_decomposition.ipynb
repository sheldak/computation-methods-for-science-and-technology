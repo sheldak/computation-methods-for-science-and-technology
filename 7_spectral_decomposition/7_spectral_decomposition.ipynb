{
 "cells": [
  {
   "cell_type": "markdown",
   "metadata": {},
   "source": [
    "### Imports"
   ]
  },
  {
   "cell_type": "code",
   "execution_count": 18,
   "metadata": {},
   "outputs": [],
   "source": [
    "import numpy as np\n",
    "from numpy.linalg import norm, eig, inv\n",
    "from scipy.linalg import lu_factor, lu_solve\n",
    "from matplotlib import pyplot as plt\n",
    "from time import time"
   ]
  },
  {
   "cell_type": "markdown",
   "metadata": {},
   "source": [
    "### Random symmetric matrix"
   ]
  },
  {
   "cell_type": "code",
   "execution_count": 4,
   "metadata": {},
   "outputs": [],
   "source": [
    "def get_random_matrix(size):\n",
    "    matrix = np.random.rand(size, size)\n",
    "    matrix = (matrix + matrix.T) / 2\n",
    "    return matrix"
   ]
  },
  {
   "cell_type": "markdown",
   "metadata": {},
   "source": [
    "### Power method"
   ]
  },
  {
   "cell_type": "code",
   "execution_count": 65,
   "metadata": {},
   "outputs": [],
   "source": [
    "def power_method(matrix, iterations, epsilon, get_iterations=False):\n",
    "    vector = np.random.rand(matrix.shape[0])\n",
    "    prev_vector = np.zeros((matrix.shape[0]))\n",
    "\n",
    "    curr_iteration = 0\n",
    "    while not norm(vector - prev_vector) < epsilon and curr_iteration < iterations:\n",
    "        prev_vector = vector.copy()\n",
    "\n",
    "        vector = matrix @ vector\n",
    "        vector /= norm(vector)\n",
    "\n",
    "        curr_iteration += 1\n",
    "\n",
    "    eigenvalue = vector @ matrix @ vector / (vector @ vector)\n",
    "    \n",
    "    if get_iterations:\n",
    "        return eigenvalue, vector, curr_iteration\n",
    "    else:\n",
    "        return eigenvalue, vector"
   ]
  },
  {
   "cell_type": "markdown",
   "metadata": {},
   "source": [
    "### Inverse power method"
   ]
  },
  {
   "cell_type": "code",
   "execution_count": 66,
   "metadata": {},
   "outputs": [],
   "source": [
    "def inverse_power_method(matrix, sigma, iterations, epsilon):\n",
    "    vector = np.random.rand(matrix.shape[0])\n",
    "    prev_vector = np.zeros((matrix.shape[0]))\n",
    "\n",
    "    lu, piv = lu_factor((matrix - sigma * np.identity(matrix.shape[0])))\n",
    "\n",
    "    curr_iteration = 0\n",
    "    while not norm(vector - prev_vector) < epsilon and curr_iteration < iterations:\n",
    "        prev_vector = vector.copy()\n",
    "\n",
    "        vector = lu_solve((lu, piv), vector)\n",
    "        vector /= norm(vector)\n",
    "\n",
    "        curr_iteration += 1\n",
    "\n",
    "    return vector\n"
   ]
  },
  {
   "cell_type": "markdown",
   "metadata": {},
   "source": [
    "### Rayleigh quotient iteration"
   ]
  },
  {
   "cell_type": "code",
   "execution_count": 72,
   "metadata": {},
   "outputs": [],
   "source": [
    "def rayleight_quotient_iteration(matrix, sigma, iterations, epsilon, get_iterations=False):\n",
    "    vector = np.random.rand(matrix.shape[0])\n",
    "    prev_vector = np.zeros((matrix.shape[0]))\n",
    "\n",
    "    modified_matrix = inv(matrix - sigma*np.identity(matrix.shape[0]))\n",
    "\n",
    "    curr_iteration = 0\n",
    "    while not norm(vector - prev_vector) < epsilon and curr_iteration < iterations:\n",
    "        prev_vector = vector.copy()\n",
    "\n",
    "        vector = modified_matrix @ vector\n",
    "        vector /= norm(vector)\n",
    "\n",
    "        sigma = vector @ matrix @ vector / (vector @ vector)\n",
    "        modified_matrix = inv(matrix - sigma * np.identity(matrix.shape[0]))\n",
    "\n",
    "        curr_iteration += 1\n",
    "\n",
    "    if get_iterations:\n",
    "        return vector, sigma, curr_iteration\n",
    "    else:\n",
    "        return vector, sigma"
   ]
  },
  {
   "cell_type": "markdown",
   "metadata": {},
   "source": [
    "### Tests"
   ]
  },
  {
   "cell_type": "markdown",
   "metadata": {},
   "source": [
    "#### Power method analysis"
   ]
  },
  {
   "cell_type": "code",
   "execution_count": 68,
   "metadata": {},
   "outputs": [],
   "source": [
    "def compare_with_numpy(sizes, iterations, epsilon):\n",
    "    for size in sizes:\n",
    "        matrix = get_random_matrix(size)\n",
    "        my_value, my_vector = power_method(matrix, iterations, epsilon)\n",
    "        \n",
    "        np_values, np_vectors = eig(matrix)\n",
    "        \n",
    "        # my eigenvalue should be the same as first numpy eigenvalue\n",
    "        if abs(my_value - np_values[0]) >= epsilon:\n",
    "            return False\n",
    "        \n",
    "        # my eigenvector should be the same as numpy eigenvector or -(numpy eigenvector)\n",
    "        if np.all(abs(my_vector - np_vectors[:, 0]) >= epsilon) and np.all(abs(my_vector + np_vectors[:, 0]) >= epsilon):\n",
    "            return False\n",
    "        \n",
    "    return True\n",
    "\n",
    "def get_time_measurements(sizes, iterations, epsilon):\n",
    "    times = []\n",
    "    for size in sizes:\n",
    "        matrix = get_random_matrix(size)\n",
    "        start_time = time()\n",
    "        \n",
    "        power_method(matrix, iterations, epsilon)\n",
    "        \n",
    "        times.append(time() - start_time)\n",
    "        \n",
    "    return times"
   ]
  },
  {
   "cell_type": "code",
   "execution_count": 93,
   "metadata": {},
   "outputs": [
    {
     "data": {
      "text/plain": [
       "Text(0, 0.5, 'time of computation (s)')"
      ]
     },
     "execution_count": 93,
     "metadata": {},
     "output_type": "execute_result"
    },
    {
     "data": {
      "image/png": "[encoded data removed]",
      "text/plain": [
       "<Figure size 648x288 with 1 Axes>"
      ]
     },
     "metadata": {
      "needs_background": "light"
     },
     "output_type": "display_data"
    }
   ],
   "source": [
    "fig, ax = plt.subplots(1, 1, figsize=(9, 4))\n",
    "\n",
    "x = list(map(int, np.linspace(100, 5000, 50)))\n",
    "y = get_time_measurements(x, 1000, 10**(-8))\n",
    "\n",
    "ax.plot(x, y, marker='', lw=2.0)\n",
    "\n",
    "ax.set_title(\"Power method\")\n",
    "ax.set_xlabel(\"size of matrix (N x N)\")\n",
    "ax.set_ylabel(\"time of computation (s)\")"
   ]
  },
  {
   "cell_type": "code",
   "execution_count": 92,
   "metadata": {},
   "outputs": [
    {
     "data": {
      "text/plain": [
       "True"
      ]
     },
     "execution_count": 92,
     "metadata": {},
     "output_type": "execute_result"
    }
   ],
   "source": [
    "# checking correctness of my implementation of power method \n",
    "x = list(map(int, np.linspace(100, 500, 5)))\n",
    "compare_with_numpy(x, 1000, 10**(-7))"
   ]
  },
  {
   "cell_type": "markdown",
   "metadata": {},
   "source": [
    "#### Comparing power method and Rayleight quotient iteration"
   ]
  },
  {
   "cell_type": "code",
   "execution_count": 73,
   "metadata": {},
   "outputs": [],
   "source": [
    "def get_comparison(size):\n",
    "    matrix = get_random_matrix(size)\n",
    "    _, _, power_iterations = power_method(matrix, 1000, 10**(-8), True)\n",
    "    _, _, rayleight_iteartions = rayleight_quotient_iteration(matrix, 0.5, 1000, 10**(-8), True)\n",
    "    \n",
    "    print(f\"Power method iterations: {power_iterations}\")\n",
    "    print(f\"Rayleight quotient method iterations: {rayleight_iteartions}\")    "
   ]
  },
  {
   "cell_type": "code",
   "execution_count": 82,
   "metadata": {},
   "outputs": [
    {
     "name": "stdout",
     "output_type": "stream",
     "text": [
      "Power method iterations: 13\n",
      "Rayleight quotient method iterations: 6\n"
     ]
    }
   ],
   "source": [
    "get_comparison(10)"
   ]
  },
  {
   "cell_type": "code",
   "execution_count": 83,
   "metadata": {},
   "outputs": [
    {
     "name": "stdout",
     "output_type": "stream",
     "text": [
      "Power method iterations: 9\n",
      "Rayleight quotient method iterations: 6\n"
     ]
    }
   ],
   "source": [
    "get_comparison(50)"
   ]
  },
  {
   "cell_type": "code",
   "execution_count": 88,
   "metadata": {},
   "outputs": [
    {
     "name": "stdout",
     "output_type": "stream",
     "text": [
      "Power method iterations: 8\n",
      "Rayleight quotient method iterations: 6\n"
     ]
    }
   ],
   "source": [
    "get_comparison(100)"
   ]
  },
  {
   "cell_type": "code",
   "execution_count": 89,
   "metadata": {},
   "outputs": [
    {
     "name": "stdout",
     "output_type": "stream",
     "text": [
      "Power method iterations: 6\n",
      "Rayleight quotient method iterations: 5\n"
     ]
    }
   ],
   "source": [
    "get_comparison(500)"
   ]
  },
  {
   "cell_type": "code",
   "execution_count": 90,
   "metadata": {},
   "outputs": [
    {
     "name": "stdout",
     "output_type": "stream",
     "text": [
      "Power method iterations: 6\n",
      "Rayleight quotient method iterations: 6\n"
     ]
    }
   ],
   "source": [
    "get_comparison(1000)"
   ]
  },
  {
   "cell_type": "code",
   "execution_count": 91,
   "metadata": {},
   "outputs": [
    {
     "name": "stdout",
     "output_type": "stream",
     "text": [
      "Power method iterations: 6\n",
      "Rayleight quotient method iterations: 5\n"
     ]
    }
   ],
   "source": [
    "get_comparison(2000)"
   ]
  }
 ],
 "metadata": {
  "kernelspec": {
   "display_name": "Python 3",
   "language": "python",
   "name": "python3"
  },
  "language_info": {
   "codemirror_mode": {
    "name": "ipython",
    "version": 3
   },
   "file_extension": ".py",
   "mimetype": "text/x-python",
   "name": "python",
   "nbconvert_exporter": "python",
   "pygments_lexer": "ipython3",
   "version": "3.7.6"
  }
 },
 "nbformat": 4,
 "nbformat_minor": 4
}
