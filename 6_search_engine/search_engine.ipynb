{
 "cells": [
  {
   "cell_type": "markdown",
   "metadata": {},
   "source": [
    "### Imports"
   ]
  },
  {
   "cell_type": "code",
   "execution_count": 41,
   "metadata": {},
   "outputs": [],
   "source": [
    "import numpy as np\n",
    "from scipy.sparse.linalg import svds\n",
    "import math"
   ]
  },
  {
   "cell_type": "markdown",
   "metadata": {},
   "source": [
    "### Functions"
   ]
  },
  {
   "cell_type": "code",
   "execution_count": 42,
   "metadata": {},
   "outputs": [],
   "source": [
    "documents = 1100\n",
    "\n",
    "\n",
    "def make_dict():\n",
    "    \"\"\" Making dictionary with all words in texts files in \"texts\" directory. \n",
    "        Key is a word and value is its index.\n",
    "    \"\"\"\n",
    "    \n",
    "    dictionary = {}\n",
    "    curr_word = 0\n",
    "    for i in range(documents):\n",
    "        with open(\"texts/\" + str(i) + \".txt\") as file:\n",
    "            text_words = file.read().split()\n",
    "            for word in text_words:\n",
    "                if word not in dictionary:\n",
    "                    dictionary[word] = curr_word\n",
    "                    curr_word += 1\n",
    "\n",
    "    return dictionary\n",
    "\n",
    "\n",
    "def make_term_by_document_matrix(dictionary):\n",
    "    \"\"\" Creating sparse term-by-document matrix.\n",
    "    Matrix's row represents a word and column represents a text.\n",
    "    matrix[i, j] = k means that there is k words having index i in dictionary in text \"texts/j.txt\"\n",
    "    \"\"\"\n",
    "    \n",
    "    matrix = np.zeros((len(dictionary), documents), dtype=float)\n",
    "\n",
    "    for i in range(documents):\n",
    "        with open(\"texts/\" + str(i) + \".txt\") as file:\n",
    "            text_words = file.read().split()\n",
    "            for word in text_words:\n",
    "                matrix[dictionary[word], i] += 1.0\n",
    "\n",
    "    return matrix\n",
    "\n",
    "\n",
    "def multiply_by_inverse_document_frequency(matrix):\n",
    "    \"\"\" Multiplying every row of matrix by its inverse document frequency. \"\"\"\n",
    "    \n",
    "    for word_inx in range(matrix.shape[0]):\n",
    "        documents_with_word = len(matrix[word_inx].nonzero()[0])\n",
    "        idf = math.log(documents / documents_with_word)\n",
    "        matrix[word_inx] *= idf\n",
    "\n",
    "\n",
    "def remove_noise(matrix, k):\n",
    "    \"\"\" Removing noise by singular value decomposition and low rank approximation. \"\"\"\n",
    "    \n",
    "    u, s, vt = svds(matrix, k)\n",
    "\n",
    "    new_matrix = u @ np.diag(s) @ vt\n",
    "\n",
    "    return new_matrix\n",
    "\n",
    "\n",
    "def get_text_vector(text, dictionary, rows, normalize=False):\n",
    "    \"\"\" Creating a bag-of-words for text to search it. \"\"\"\n",
    "    \n",
    "    text_vector = np.zeros((rows, 1))\n",
    "    for word in text.split():\n",
    "        text_vector[dictionary[word]] += 1\n",
    "\n",
    "    if normalize:\n",
    "        text_vector /= np.linalg.norm(text_vector)\n",
    "\n",
    "    return text_vector\n",
    "\n",
    "\n",
    "def search(dictionary, matrix, text, k, normalize=False):\n",
    "    \"\"\" Searching word and returning k texts with the highest probability to contain that text. \"\"\"\n",
    "\n",
    "    text_vector = get_text_vector(text, dictionary, matrix.shape[0], normalize)\n",
    "\n",
    "    if normalize:\n",
    "        for row in range(matrix.shape[0]):\n",
    "            norm = np.linalg.norm(matrix[row])\n",
    "            if norm != 0:\n",
    "                matrix[row] /= norm\n",
    "\n",
    "    likelihood = []\n",
    "    for i in range(matrix.shape[1]):\n",
    "        word_likelihood = (text_vector.T @ matrix[:, i].reshape(-1, 1))[0, 0] / \\\n",
    "                          (np.linalg.norm(text_vector) * np.linalg.norm(matrix[:, i]))\n",
    "        likelihood.append((word_likelihood, i))\n",
    "\n",
    "    likelihood.sort(reverse=True)\n",
    "\n",
    "    for i in range(k):\n",
    "        print(f\"Text {likelihood[i][1]}, correlation {likelihood[i][0]}\")\n",
    "        \n",
    "\n",
    "def get_matrix(dictionary, use_idf=False, use_approximation=False, k=1):\n",
    "    \"\"\" Getting term-by-document matrix for searches.\n",
    "    \n",
    "    Parameters:\n",
    "    dictionary - dictionary where key is the word and value is word's index\n",
    "    use_idf - whether multiply the matrix by inverse document frequency\n",
    "    use_approximation - if reduce noise by singular value decomposition \n",
    "                        and low rank approximation\n",
    "    k - number of singular values for low rank approximation\n",
    "    \"\"\"\n",
    "    \n",
    "    matrix = make_term_by_document_matrix(dictionary)\n",
    "\n",
    "    if use_idf:\n",
    "        multiply_by_inverse_document_frequency(matrix)\n",
    "\n",
    "    if use_approximation:\n",
    "        matrix = remove_noise(matrix, k)\n",
    "\n",
    "    return matrix"
   ]
  },
  {
   "cell_type": "markdown",
   "metadata": {},
   "source": [
    "### Tests"
   ]
  },
  {
   "cell_type": "markdown",
   "metadata": {},
   "source": [
    "#### Making matrices"
   ]
  },
  {
   "cell_type": "code",
   "execution_count": 43,
   "metadata": {},
   "outputs": [],
   "source": [
    "dictionary = make_dict()"
   ]
  },
  {
   "cell_type": "code",
   "execution_count": 44,
   "metadata": {},
   "outputs": [],
   "source": [
    "matrix_1 = get_matrix(dictionary, use_idf=False, use_approximation=False)"
   ]
  },
  {
   "cell_type": "code",
   "execution_count": 45,
   "metadata": {},
   "outputs": [],
   "source": [
    "matrix_2 = get_matrix(dictionary, use_idf=True, use_approximation=False)"
   ]
  },
  {
   "cell_type": "code",
   "execution_count": 47,
   "metadata": {},
   "outputs": [],
   "source": [
    "matrix_3 = get_matrix(dictionary, use_idf=True, use_approximation=True, k=5)"
   ]
  },
  {
   "cell_type": "code",
   "execution_count": 48,
   "metadata": {},
   "outputs": [],
   "source": [
    "# it takes ~15s to run\n",
    "matrix_4 = get_matrix(dictionary, use_idf=True, use_approximation=True, k=100) "
   ]
  },
  {
   "cell_type": "code",
   "execution_count": 82,
   "metadata": {},
   "outputs": [],
   "source": [
    "# it takes ~100s to run\n",
    "matrix_5 = get_matrix(dictionary, use_idf=True, use_approximation=True, k=1050)"
   ]
  },
  {
   "cell_type": "markdown",
   "metadata": {},
   "source": [
    "#### First text to search\n",
    "Below is a text from file \"texts/1.txt\".\n",
    "It is specific so it is very improbable that any other text contains all these words"
   ]
  },
  {
   "cell_type": "code",
   "execution_count": 83,
   "metadata": {},
   "outputs": [],
   "source": [
    "text = \"Eirene or Irene was an ancient Greek artist described by Pliny the Elder in the 1st century . She was the daughter of a painter\""
   ]
  },
  {
   "cell_type": "code",
   "execution_count": 84,
   "metadata": {},
   "outputs": [
    {
     "name": "stdout",
     "output_type": "stream",
     "text": [
      "Text 995, correlation 0.5690413989424618\n",
      "Text 1, correlation 0.5677270907634907\n",
      "Text 728, correlation 0.5530083017624435\n",
      "Text 592, correlation 0.5421900064192553\n",
      "Text 298, correlation 0.5413001831392188\n"
     ]
    }
   ],
   "source": [
    "search(dictionary, matrix_1, text, 5)"
   ]
  },
  {
   "cell_type": "code",
   "execution_count": 85,
   "metadata": {},
   "outputs": [
    {
     "name": "stdout",
     "output_type": "stream",
     "text": [
      "Text 1, correlation 0.22208582116215791\n",
      "Text 695, correlation 0.04430720162672154\n",
      "Text 520, correlation 0.04336838559555177\n",
      "Text 322, correlation 0.04113319840960251\n",
      "Text 760, correlation 0.0362994822931513\n"
     ]
    }
   ],
   "source": [
    "search(dictionary, matrix_2, text, 5, True)"
   ]
  },
  {
   "cell_type": "code",
   "execution_count": 86,
   "metadata": {},
   "outputs": [
    {
     "name": "stdout",
     "output_type": "stream",
     "text": [
      "Text 808, correlation 0.036249759229291634\n",
      "Text 197, correlation 0.03613749946173404\n",
      "Text 150, correlation 0.035986541614283156\n",
      "Text 543, correlation 0.035721139110840974\n",
      "Text 371, correlation 0.035593781123569444\n"
     ]
    }
   ],
   "source": [
    "search(dictionary, matrix_3, text, 5, True)"
   ]
  },
  {
   "cell_type": "code",
   "execution_count": 87,
   "metadata": {},
   "outputs": [
    {
     "name": "stdout",
     "output_type": "stream",
     "text": [
      "Text 1, correlation 0.04980628063417669\n",
      "Text 874, correlation 0.04671997475337966\n",
      "Text 427, correlation 0.04347952401523341\n",
      "Text 117, correlation 0.04342945126128477\n",
      "Text 904, correlation 0.04301006511715169\n"
     ]
    }
   ],
   "source": [
    "search(dictionary, matrix_4, text, 5, True)"
   ]
  },
  {
   "cell_type": "code",
   "execution_count": 88,
   "metadata": {},
   "outputs": [
    {
     "name": "stdout",
     "output_type": "stream",
     "text": [
      "Text 1, correlation 0.22205057575099654\n",
      "Text 695, correlation 0.04414862971767928\n",
      "Text 520, correlation 0.04328142791459883\n",
      "Text 322, correlation 0.041018391487350925\n",
      "Text 760, correlation 0.03635989848520005\n"
     ]
    }
   ],
   "source": [
    "search(dictionary, matrix_5, text, 5, True)"
   ]
  },
  {
   "cell_type": "markdown",
   "metadata": {},
   "source": [
    "#### Second text to search\n",
    "Below is a text from file \"texts/3.txt\".\n",
    "This one contains words which should be common in many texts"
   ]
  },
  {
   "cell_type": "code",
   "execution_count": 89,
   "metadata": {},
   "outputs": [],
   "source": [
    "text = \"and only eight of them are\""
   ]
  },
  {
   "cell_type": "code",
   "execution_count": 90,
   "metadata": {},
   "outputs": [
    {
     "name": "stdout",
     "output_type": "stream",
     "text": [
      "Text 3, correlation 0.38214604368683663\n",
      "Text 809, correlation 0.37523938719322825\n",
      "Text 1029, correlation 0.3546040716334876\n",
      "Text 381, correlation 0.3306121993780585\n",
      "Text 489, correlation 0.3215206485222378\n"
     ]
    }
   ],
   "source": [
    "search(dictionary, matrix_1, text, 5)"
   ]
  },
  {
   "cell_type": "code",
   "execution_count": 91,
   "metadata": {},
   "outputs": [
    {
     "name": "stdout",
     "output_type": "stream",
     "text": [
      "Text 3, correlation 0.0752213879854701\n",
      "Text 950, correlation 0.047897772078110176\n",
      "Text 473, correlation 0.04378901190067551\n",
      "Text 381, correlation 0.04163674623547035\n",
      "Text 556, correlation 0.0400686806019348\n"
     ]
    }
   ],
   "source": [
    "search(dictionary, matrix_2, text, 5)"
   ]
  },
  {
   "cell_type": "code",
   "execution_count": 92,
   "metadata": {},
   "outputs": [
    {
     "name": "stdout",
     "output_type": "stream",
     "text": [
      "Text 285, correlation 0.020508096788457473\n",
      "Text 66, correlation 0.02050670627456389\n",
      "Text 769, correlation 0.020396095511925207\n",
      "Text 141, correlation 0.020394636664360186\n",
      "Text 71, correlation 0.02039281599190947\n"
     ]
    }
   ],
   "source": [
    "search(dictionary, matrix_3, text, 5)"
   ]
  },
  {
   "cell_type": "code",
   "execution_count": 93,
   "metadata": {},
   "outputs": [
    {
     "name": "stdout",
     "output_type": "stream",
     "text": [
      "Text 699, correlation 0.03521951518907277\n",
      "Text 142, correlation 0.03324513785216377\n",
      "Text 161, correlation 0.03273482584203671\n",
      "Text 48, correlation 0.030669424469942863\n",
      "Text 986, correlation 0.030663423628029537\n"
     ]
    }
   ],
   "source": [
    "search(dictionary, matrix_4, text, 5)"
   ]
  },
  {
   "cell_type": "code",
   "execution_count": 94,
   "metadata": {},
   "outputs": [
    {
     "name": "stdout",
     "output_type": "stream",
     "text": [
      "Text 3, correlation 0.07569354709858046\n",
      "Text 950, correlation 0.04782960282190271\n",
      "Text 473, correlation 0.04385518553185537\n",
      "Text 381, correlation 0.041685742563233735\n",
      "Text 773, correlation 0.0389129040321094\n"
     ]
    }
   ],
   "source": [
    "search(dictionary, matrix_5, text, 5, True)"
   ]
  }
 ],
 "metadata": {
  "kernelspec": {
   "display_name": "Python 3",
   "language": "python",
   "name": "python3"
  },
  "language_info": {
   "codemirror_mode": {
    "name": "ipython",
    "version": 3
   },
   "file_extension": ".py",
   "mimetype": "text/x-python",
   "name": "python",
   "nbconvert_exporter": "python",
   "pygments_lexer": "ipython3",
   "version": "3.7.4"
  }
 },
 "nbformat": 4,
 "nbformat_minor": 2
}
