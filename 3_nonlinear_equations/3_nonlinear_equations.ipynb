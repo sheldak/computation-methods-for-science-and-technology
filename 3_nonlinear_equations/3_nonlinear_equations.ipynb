{
 "cells": [
  {
   "cell_type": "markdown",
   "metadata": {},
   "source": [
    "## Definitions"
   ]
  },
  {
   "cell_type": "code",
   "execution_count": 114,
   "metadata": {},
   "outputs": [],
   "source": [
    "import math\n",
    "import decimal\n",
    "from decimal import Decimal as Dec\n",
    "\n",
    "inf = 10**10\n",
    "\n",
    "def f1(x, der=False):\n",
    "    return Dec(math.cos(x) * math.cosh(x) - 1) if not der \\\n",
    "        else Dec(math.cos(x) * math.sinh(x) - math.sin(x) * math.cosh(x))\n",
    "\n",
    "\n",
    "def f2(x, der=False):\n",
    "    if x == 0:\n",
    "        return Dec(inf)\n",
    "    elif math.sin(x) == 1:      # in case of tan(x) (or 1/cos(x) in derivative) being infinite\n",
    "        return Dec(-inf)\n",
    "\n",
    "    return Dec(1/x) - Dec(math.tan(x)) if not der \\\n",
    "        else Dec(-1/(x**2) - Dec((1 / math.cos(x))**2))\n",
    "\n",
    "\n",
    "def f3(x, der=False):\n",
    "    return Dec(Dec(2)**(-x) + Dec(math.e)**x + Dec(2*math.cos(x)) - Dec(6)) if not der \\\n",
    "        else Dec(Dec(math.e)**x - Dec(2)**(-x) * Dec(math.log(2)) - Dec(2 * math.sin(x)))\n"
   ]
  },
  {
   "cell_type": "markdown",
   "metadata": {},
   "source": [
    "## Bisection method"
   ]
  },
  {
   "cell_type": "code",
   "execution_count": 115,
   "metadata": {},
   "outputs": [],
   "source": [
    "def bisection(precision, interval, epsilon, function):\n",
    "    decimal.getcontext().prec = precision\n",
    "\n",
    "    (left, right) = map(Dec, interval)\n",
    "\n",
    "    it = 0\n",
    "\n",
    "    error = Dec(right) - Dec(left)\n",
    "    middle = Dec(left) + error/2\n",
    "\n",
    "    while not abs(error) < epsilon:\n",
    "        error = Dec(right) - Dec(left)\n",
    "        error /= 2\n",
    "        middle = Dec(left) + error\n",
    "        f_middle = function(middle)\n",
    "        if (f_middle > 0 and function(left) > 0) or (f_middle < 0 and function(left) < 0):\n",
    "            left = middle\n",
    "        else:\n",
    "            right = middle\n",
    "        it += 1\n",
    "\n",
    "    return middle, it"
   ]
  },
  {
   "cell_type": "markdown",
   "metadata": {},
   "source": [
    "## Newton's method"
   ]
  },
  {
   "cell_type": "code",
   "execution_count": 116,
   "metadata": {},
   "outputs": [],
   "source": [
    "def newton(precision, interval, max_it, epsilon, function):\n",
    "    decimal.getcontext().prec = precision\n",
    "\n",
    "    prev_x = Dec((interval[0] + interval[1]) / 2)\n",
    "    x = prev_x - function(prev_x) / function(prev_x, der=True)\n",
    "    it = 1\n",
    "\n",
    "    while it < max_it and abs(x - prev_x) > epsilon and abs(function(x) - function(prev_x)) > epsilon:\n",
    "        prev_x = x\n",
    "        x -= function(x) / function(x, der=True)\n",
    "        it += 1\n",
    "\n",
    "    return x, it"
   ]
  },
  {
   "cell_type": "markdown",
   "metadata": {},
   "source": [
    "## Secant method"
   ]
  },
  {
   "cell_type": "code",
   "execution_count": 117,
   "metadata": {},
   "outputs": [],
   "source": [
    "def secant(precision, interval, max_it, epsilon, function):\n",
    "    decimal.getcontext().prec = precision\n",
    "\n",
    "    prev_x = Dec(interval[0])\n",
    "    x = Dec(interval[1])\n",
    "    \n",
    "    f_x = function(x)\n",
    "    \n",
    "    it = 0\n",
    "    while it < max_it and abs(x - prev_x) > epsilon and abs(f_x - function(prev_x)) > epsilon:\n",
    "        x, prev_x = x - f_x * (x - prev_x) / (f_x - function(prev_x)), x\n",
    "        f_x = function(x)\n",
    "        it += 1\n",
    "\n",
    "    return x, it"
   ]
  },
  {
   "cell_type": "markdown",
   "metadata": {},
   "source": [
    "## Results"
   ]
  },
  {
   "cell_type": "code",
   "execution_count": 118,
   "metadata": {},
   "outputs": [],
   "source": [
    "def print_results(digits, precision, max_iterations):\n",
    "    print(\"for\", digits, \"digits and precision\", precision, \"    max iterations:\", max_iterations, \"\\n\")\n",
    "\n",
    "    print(\"---BISECTION---\")\n",
    "    print(\"f1 (root, iterations): \", bisection(digits, (1.5 * math.pi, 2 * math.pi), precision, f1))\n",
    "    print(\"f2 (root, iterations): \", bisection(digits, (0, 0.5 * math.pi), precision, f2))\n",
    "    print(\"f3 (root, iterations): \", bisection(digits, (1, 3), precision, f3))\n",
    "    print()\n",
    "\n",
    "    print(\"---NEWTON---\")\n",
    "    print(\"f1 (root, iterations): \", newton(digits, (1.5 * math.pi, 2 * math.pi), max_iterations, precision, f1))\n",
    "    print(\"f2 (root, iterations): \", newton(digits, (0, 0.5 * math.pi), max_iterations, precision, f2))\n",
    "    print(\"f3 (root, iterations): \", newton(digits, (1, 3), max_iterations, precision, f3))\n",
    "    print()\n",
    "\n",
    "    print(\"---SECANT---\")\n",
    "    print(\"f1 (root, iterations): \", secant(digits, (1.5 * math.pi, 2 * math.pi), max_iterations, precision, f1))\n",
    "    print(\"f2 (root, iterations): \", secant(digits, (0, 0.5 * math.pi), max_iterations, precision, f2))\n",
    "    print(\"f3 (root, iterations): \", secant(digits, (1, 3), max_iterations, precision, f3))"
   ]
  },
  {
   "cell_type": "markdown",
   "metadata": {},
   "source": [
    "### 10 digits; precision 10^(-7)"
   ]
  },
  {
   "cell_type": "code",
   "execution_count": 119,
   "metadata": {},
   "outputs": [
    {
     "name": "stdout",
     "output_type": "stream",
     "text": [
      "for 10 digits and precision 1e-07     max iterations: 100000 \n",
      "\n",
      "---BISECTION---\n",
      "f1 (root, iterations):  (Decimal('4.730040714'), 24)\n",
      "f2 (root, iterations):  (Decimal('0.8603335556'), 24)\n",
      "f3 (root, iterations):  (Decimal('1.829383552'), 25)\n",
      "\n",
      "---NEWTON---\n",
      "f1 (root, iterations):  (Decimal('4.730040745'), 6)\n",
      "f2 (root, iterations):  (Decimal('0.8603335890'), 3)\n",
      "f3 (root, iterations):  (Decimal('1.829383602'), 5)\n",
      "\n",
      "---SECANT---\n",
      "f1 (root, iterations):  (Decimal('4.730040745'), 6)\n",
      "f2 (root, iterations):  (Decimal('0.7853981633'), 2)\n",
      "f3 (root, iterations):  (Decimal('1.829383602'), 10)\n"
     ]
    }
   ],
   "source": [
    "max_iterations = 100000\n",
    "digits = 10\n",
    "precision = 10**(-7)\n",
    "\n",
    "print_results(digits, precision, max_iterations)"
   ]
  },
  {
   "cell_type": "markdown",
   "metadata": {},
   "source": [
    "### 20 digits; precision 10^(-15)"
   ]
  },
  {
   "cell_type": "code",
   "execution_count": 120,
   "metadata": {},
   "outputs": [
    {
     "name": "stdout",
     "output_type": "stream",
     "text": [
      "for 20 digits and precision 1e-15     max iterations: 100000 \n",
      "\n",
      "---BISECTION---\n",
      "f1 (root, iterations):  (Decimal('4.7300407448627038796'), 51)\n",
      "f2 (root, iterations):  (Decimal('0.86033358901937950860'), 51)\n",
      "f3 (root, iterations):  (Decimal('1.8293836019338494126'), 51)\n",
      "\n",
      "---NEWTON---\n",
      "f1 (root, iterations):  (Decimal('4.7300407448627037658'), 7)\n",
      "f2 (root, iterations):  (Decimal('0.86033358901937977788'), 5)\n",
      "f3 (root, iterations):  (Decimal('1.8293836019338489759'), 6)\n",
      "\n",
      "---SECANT---\n",
      "f1 (root, iterations):  (Decimal('4.7300407448627044013'), 7)\n",
      "f2 (root, iterations):  (Decimal('0.86033358901937972881'), 8)\n",
      "f3 (root, iterations):  (Decimal('1.8293836019338489736'), 11)\n"
     ]
    }
   ],
   "source": [
    "max_iterations = 100000\n",
    "digits = 20\n",
    "precision = 10**(-15)\n",
    "\n",
    "print_results(digits, precision, max_iterations)"
   ]
  },
  {
   "cell_type": "markdown",
   "metadata": {},
   "source": [
    "### 40 digits; precision 10^(-33)"
   ]
  },
  {
   "cell_type": "code",
   "execution_count": 121,
   "metadata": {},
   "outputs": [
    {
     "name": "stdout",
     "output_type": "stream",
     "text": [
      "for 40 digits and precision 1e-33     max iterations: 100000 \n",
      "\n",
      "---BISECTION---\n",
      "f1 (root, iterations):  (Decimal('4.730040744862704205075942809344269347068'), 111)\n",
      "f2 (root, iterations):  (Decimal('0.8603335890193797804224640112465339549362'), 111)\n",
      "f3 (root, iterations):  (Decimal('1.829383601933848960007643980709563798316'), 111)\n",
      "\n",
      "---NEWTON---\n",
      "f1 (root, iterations):  (Decimal('4.730040744862704031521467133183237941713'), 8)\n",
      "f2 (root, iterations):  (Decimal('0.8603335890193797804224640112465321388022'), 82)\n",
      "f3 (root, iterations):  (Decimal('1.829383601933848960007643980709563257642'), 58)\n",
      "\n",
      "---SECANT---\n",
      "f1 (root, iterations):  (Decimal('4.730040744862704215143960010336124467787'), 8)\n",
      "f2 (root, iterations):  (Decimal('0.8603335890193797804224640112465338049134'), 10)\n",
      "f3 (root, iterations):  (Decimal('1.829383601933848960007643980709563092856'), 13)\n"
     ]
    }
   ],
   "source": [
    "max_iterations = 100000\n",
    "digits = 40\n",
    "precision = 10**(-33)\n",
    "\n",
    "print_results(digits, precision, max_iterations)"
   ]
  }
 ],
 "metadata": {
  "kernelspec": {
   "display_name": "Python 3",
   "language": "python",
   "name": "python3"
  },
  "language_info": {
   "codemirror_mode": {
    "name": "ipython",
    "version": 3
   },
   "file_extension": ".py",
   "mimetype": "text/x-python",
   "name": "python",
   "nbconvert_exporter": "python",
   "pygments_lexer": "ipython3",
   "version": "3.7.4"
  }
 },
 "nbformat": 4,
 "nbformat_minor": 2
}
