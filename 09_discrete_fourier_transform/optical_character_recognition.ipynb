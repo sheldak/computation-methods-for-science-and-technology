{
 "cells": [
  {
   "cell_type": "markdown",
   "metadata": {},
   "source": [
    "### Imports"
   ]
  },
  {
   "cell_type": "code",
   "execution_count": 10,
   "metadata": {},
   "outputs": [],
   "source": [
    "import numpy as np\n",
    "from numpy.fft import fft2, ifft2\n",
    "from PIL import Image\n",
    "import PIL.ImageOps\n",
    "from matplotlib import pyplot as plt"
   ]
  },
  {
   "cell_type": "markdown",
   "metadata": {},
   "source": [
    "### Functions"
   ]
  },
  {
   "cell_type": "code",
   "execution_count": 388,
   "metadata": {},
   "outputs": [],
   "source": [
    "start_left = 200\n",
    "start_top = 197\n",
    "# start_top = 612\n",
    "width = 23.3\n",
    "height = 51\n",
    "\n",
    "def crop_letters(filepath):\n",
    "    image = Image.open(filepath)\n",
    "    \n",
    "    \n",
    "    for i in range(17):\n",
    "        for j in range(53):\n",
    "            top = start_top + i * height\n",
    "            left = start_left + int(j * width)\n",
    "            \n",
    "            curr_width = int(width)\n",
    "            \n",
    "            letter = image.crop((left, top, left+curr_width, top+height))\n",
    "            \n",
    "            with open(f\"ocr/letters/{i*53 + j}.jpg\", \"w+\"):\n",
    "                pass\n",
    "            \n",
    "            letter.save(f\"ocr/letters/{i*53 + j}.jpg\")\n",
    "\n",
    "#     return np.array(letter)\n",
    "    \n",
    "def show_image(image):\n",
    "    fig, ax = plt.subplots(1, 1, figsize=(15,10))\n",
    "\n",
    "#     ax.imshow(image, cmap='gray')\n",
    "    ax.imshow(image)\n",
    "    \n",
    "    plt.show()"
   ]
  },
  {
   "cell_type": "code",
   "execution_count": 389,
   "metadata": {},
   "outputs": [],
   "source": [
    "crop_letters(\"ocr/courier_new.jpg\")\n",
    "\n",
    "# show_image(letter)"
   ]
  },
  {
   "cell_type": "code",
   "execution_count": 379,
   "metadata": {},
   "outputs": [],
   "source": [
    "with open(\"ocr/letters/0.jpg\", \"w+\"):\n",
    "    pass"
   ]
  },
  {
   "cell_type": "code",
   "execution_count": null,
   "metadata": {},
   "outputs": [],
   "source": []
  }
 ],
 "metadata": {
  "kernelspec": {
   "display_name": "Python 3",
   "language": "python",
   "name": "python3"
  },
  "language_info": {
   "codemirror_mode": {
    "name": "ipython",
    "version": 3
   },
   "file_extension": ".py",
   "mimetype": "text/x-python",
   "name": "python",
   "nbconvert_exporter": "python",
   "pygments_lexer": "ipython3",
   "version": "3.7.6"
  }
 },
 "nbformat": 4,
 "nbformat_minor": 4
}
