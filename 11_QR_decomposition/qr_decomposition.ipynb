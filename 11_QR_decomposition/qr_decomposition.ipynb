{
 "cells": [
  {
   "cell_type": "markdown",
   "metadata": {},
   "source": [
    "### Imports"
   ]
  },
  {
   "cell_type": "code",
   "execution_count": 101,
   "metadata": {},
   "outputs": [],
   "source": [
    "import numpy as np\n",
    "from numpy.linalg import norm, qr, inv, svd, solve\n",
    "from time import time\n",
    "from matplotlib import pyplot as plt"
   ]
  },
  {
   "cell_type": "markdown",
   "metadata": {},
   "source": [
    "### Gram-Schmidt algorithm"
   ]
  },
  {
   "cell_type": "code",
   "execution_count": 102,
   "metadata": {},
   "outputs": [],
   "source": [
    "def get_random_matrix(size):\n",
    "    \"\"\" Gets random square matrix \n",
    "    \n",
    "    :arg\n",
    "        size: matrix has size (`size` x `size`)\n",
    "    \n",
    "    :returns\n",
    "        random square matrix\n",
    "    \"\"\"\n",
    "    a = np.random.rand(size, size)\n",
    "    \n",
    "    return a;\n",
    "\n",
    "def qr_decomposition(a):\n",
    "    \"\"\" Returns matrices Q and R of QR decomposition of square matrix `a` \n",
    "    \n",
    "    :arg\n",
    "        a: matrix which will be decomposed\n",
    "        \n",
    "    :returns\n",
    "        orthogonal matrix `q` and upper triangular matrix `r` such that `a` = `q` @ `r`\n",
    "    \"\"\"\n",
    "    q = np.zeros(a.shape, dtype=np.float64)\n",
    "    r = np.zeros(a.shape, dtype=np.float64)\n",
    "    \n",
    "    for i in range(a.shape[1]):\n",
    "        q[:, i] = a[:, i]\n",
    "        \n",
    "        for j in range(i):\n",
    "            dot_product = np.dot(a[:, i], q[:, j])\n",
    "            r[j, i] = dot_product\n",
    "            q[:, i] -=  dot_product * q[:, j]\n",
    "            \n",
    "        q[:, i] /= norm(q[:, i])\n",
    "        r[i, i] = np.dot(a[:, i], q[:, i])\n",
    "          \n",
    "    return q, r\n",
    "\n",
    "def compare_with_numpy(a, epsilon):\n",
    "    \"\"\" Checks if function `qr_decomposition` returns the same matrices \n",
    "    as numpy's funtion `qr` and compares times of executions\n",
    "    \n",
    "    :arg\n",
    "        a:       matrix which will be decomposed by both functions\n",
    "        epsilon: difference between results can be no bigger than epsilon to\n",
    "            qualify `qr_decomposition` function as correct\n",
    "    \"\"\"\n",
    "    start_time = time()\n",
    "    my_q, my_r = qr_decomposition(a)\n",
    "    my_function_time = time() - start_time\n",
    "    \n",
    "    start_time = time()\n",
    "    q, r = qr(a)\n",
    "    numpy_time = time() - start_time\n",
    "    \n",
    "    if np.all(abs(my_q) - abs(q) < epsilon) and np.all(abs(my_r) - abs(r) < epsilon):\n",
    "        print(f\"Decomposition for matrix of size {a.shape[0]}x{a.shape[1]} is correct with accuracy {epsilon}\")\n",
    "    else:\n",
    "        print(\"Decomposition is incorrect\")\n",
    "        \n",
    "    print(f\"My function time: {my_function_time}\")\n",
    "    print(f\"Numpy time:       {numpy_time}\")"
   ]
  },
  {
   "cell_type": "markdown",
   "metadata": {},
   "source": [
    "### Comparing my QR decomposition with Numpy"
   ]
  },
  {
   "cell_type": "code",
   "execution_count": 91,
   "metadata": {},
   "outputs": [
    {
     "name": "stdout",
     "output_type": "stream",
     "text": [
      "Decomposition for matrix of size 10x10 is correct with accuracy 1e-08\n",
      "My function time: 0.011734247207641602\n",
      "Numpy time:       0.0004646778106689453\n"
     ]
    }
   ],
   "source": [
    "epsilon = 10 ** (-8)\n",
    "matrix_10x10 = get_random_matrix(10)\n",
    "\n",
    "compare_with_numpy(matrix_10x10, epsilon)"
   ]
  },
  {
   "cell_type": "code",
   "execution_count": 92,
   "metadata": {},
   "outputs": [
    {
     "name": "stdout",
     "output_type": "stream",
     "text": [
      "Decomposition for matrix of size 50x50 is correct with accuracy 1e-08\n",
      "My function time: 0.014661312103271484\n",
      "Numpy time:       0.0004410743713378906\n"
     ]
    }
   ],
   "source": [
    "matrix_50x50 = get_random_matrix(50)\n",
    "\n",
    "compare_with_numpy(matrix_50x50, epsilon)"
   ]
  },
  {
   "cell_type": "code",
   "execution_count": 93,
   "metadata": {},
   "outputs": [
    {
     "name": "stdout",
     "output_type": "stream",
     "text": [
      "Decomposition for matrix of size 100x100 is correct with accuracy 1e-08\n",
      "My function time: 0.06075620651245117\n",
      "Numpy time:       0.001153707504272461\n"
     ]
    }
   ],
   "source": [
    "matrix_100x100 = get_random_matrix(100)\n",
    "\n",
    "compare_with_numpy(matrix_100x100, epsilon)"
   ]
  },
  {
   "cell_type": "code",
   "execution_count": 94,
   "metadata": {},
   "outputs": [
    {
     "name": "stdout",
     "output_type": "stream",
     "text": [
      "Decomposition for matrix of size 500x500 is correct with accuracy 1e-08\n",
      "My function time: 1.3286018371582031\n",
      "Numpy time:       0.012267351150512695\n"
     ]
    }
   ],
   "source": [
    "matrix_500x500 = get_random_matrix(500)\n",
    "\n",
    "compare_with_numpy(matrix_500x500, epsilon)"
   ]
  },
  {
   "cell_type": "code",
   "execution_count": 95,
   "metadata": {},
   "outputs": [
    {
     "name": "stdout",
     "output_type": "stream",
     "text": [
      "Decomposition for matrix of size 1000x1000 is correct with accuracy 1e-08\n",
      "My function time: 11.62476110458374\n",
      "Numpy time:       0.05758929252624512\n"
     ]
    }
   ],
   "source": [
    "matrix_1000x1000 = get_random_matrix(1000)\n",
    "\n",
    "compare_with_numpy(matrix_1000x1000, epsilon)"
   ]
  },
  {
   "cell_type": "markdown",
   "metadata": {},
   "source": [
    "### Generating matrices with desired condition number"
   ]
  },
  {
   "cell_type": "code",
   "execution_count": 100,
   "metadata": {},
   "outputs": [],
   "source": [
    "def generate_matrices(num):\n",
    "    \"\"\" Uses QR and SVD decompositions to generate `num` matrices.\n",
    "    \n",
    "    :arg\n",
    "        num: number of matrices to generate\n",
    "        \n",
    "    :returns\n",
    "        list of matrices with condition numbers from 1 to 10^(`num` / 3)\n",
    "        \n",
    "    note: \n",
    "        In SVD decomposition A = U @ S @ V where S is a diagonal matrix with singular\n",
    "        values and U and V are orthogonal matrices. So to generate matrix with desired\n",
    "        condition number function gets orthogonal matrices Q1 and Q2 from QR decomposition\n",
    "        and diagonal matrix S having singular values which makes desired condition number \n",
    "        and multiplicate them. Q1 @ S @ Q2 is a matrix having condition number equal to \n",
    "        max(S) / min(S).\n",
    "    \"\"\"\n",
    "     \n",
    "    a1 = get_random_matrix(8)\n",
    "    a2 = get_random_matrix(8)\n",
    "    \n",
    "    q1, _ = qr(a1)\n",
    "    q2, _ = qr(a2)\n",
    "    \n",
    "    matrices = []\n",
    "    \n",
    "    min_singular = 10 ** (-10)\n",
    "    \n",
    "    for i in range(num):\n",
    "        max_singular = min_singular * 10 ** (i / 3)\n",
    "        singular_values = np.linspace(min_singular, max_singular, 8)\n",
    "        s = np.diag(singular_values)\n",
    "        \n",
    "        matrix = q1 @ s @ q2\n",
    "        matrices.append(matrix)\n",
    "        \n",
    "    return matrices"
   ]
  },
  {
   "cell_type": "markdown",
   "metadata": {},
   "source": [
    "### Relationship between condition number and error"
   ]
  },
  {
   "cell_type": "code",
   "execution_count": null,
   "metadata": {},
   "outputs": [],
   "source": [
    "def get_cond_relationship(matrices):\n",
    "    \"\"\" Makes points for drawing a chart with relationship between cond and error\n",
    "    \n",
    "    :arg\n",
    "        matrices: list of numpy arrays with increasing condition numbers \n",
    "        \n",
    "    :returns\n",
    "        two lists of points' coordinates for drawing a chart of relationship\n",
    "    \"\"\"\n",
    "    cond = []\n",
    "    difference = []\n",
    "    \n",
    "    for i in range(len(matrices)):\n",
    "        _, singular_values, _ = svd(matrices[i])\n",
    "        cond.append(singular_values[0] / singular_values[len(singular_values)-1])\n",
    "        \n",
    "        q, _ = qr_decomposition(matrices[i])\n",
    "\n",
    "        difference.append(norm(np.identity(q.shape[0]) - q.T @ q))\n",
    "        \n",
    "    return cond, difference\n",
    "\n",
    "def draw_cond_relationship(matrices):\n",
    "    \"\"\" Drawing chart of relanship between condition number and error \n",
    "    \n",
    "    :arg\n",
    "        matrices: list of numpy arrays with increasing condition numbers\n",
    "    \"\"\"\n",
    "    fig, ax = plt.subplots(1, 1, figsize=(15,10))\n",
    "    plt.xscale(\"log\")\n",
    "    plt.yscale(\"log\")\n",
    "    \n",
    "    ax.set_title(\"Relationship between condition number and norm of the error\")\n",
    "    ax.set_xlabel(\"Condition number\")\n",
    "    ax.set_ylabel(\"|| I - Q.T @ Q ||\")\n",
    "\n",
    "    points_x, points_y = get_cond_relationship(matrices)\n",
    "    ax.plot(points_x, points_y, c=\"#FF0000\")\n",
    "    \n",
    "    plt.show()"
   ]
  },
  {
   "cell_type": "code",
   "execution_count": 75,
   "metadata": {},
   "outputs": [
    {
     "data": {
      "image/png": "[encoded data removed]",
      "text/plain": [
       "<Figure size 1080x720 with 1 Axes>"
      ]
     },
     "metadata": {
      "needs_background": "light"
     },
     "output_type": "display_data"
    }
   ],
   "source": [
    "matrices = generate_matrices(50)\n",
    "\n",
    "draw_cond_relationship(matrices)"
   ]
  },
  {
   "cell_type": "markdown",
   "metadata": {},
   "source": [
    "### Solving overdetermined system\n",
    "\n",
    "We are starting with the system:\n",
    "$$Ax=b$$\n",
    "\n",
    "Then we can make QR decomposition:\n",
    "$$A=QR$$\n",
    "\n",
    "And transform system to the form:\n",
    "$$Rx=Q^T b$$"
   ]
  },
  {
   "cell_type": "code",
   "execution_count": 125,
   "metadata": {},
   "outputs": [],
   "source": [
    "def solve_system(x, y):\n",
    "    \"\"\" Solves overdetermined system of equations using QR decomposition\n",
    "    \n",
    "    :arg\n",
    "        x: arguments of function which is being approximated\n",
    "        y: values of that funtion\n",
    "        \n",
    "    return:\n",
    "        coefficients of the result approximation funtion\n",
    "            \n",
    "    note:\n",
    "            |1 x1 x1^2|\n",
    "            |1 x2 x2^2|\n",
    "            |1 x3 x3^2|\n",
    "        A = |    .    |, x is a vector of coefficients we want and b is vector of values y\n",
    "            |    .    |\n",
    "            |    .    |\n",
    "            |1 xn xn^2|\n",
    "    \"\"\"\n",
    "    a = np.empty((x.shape[0], 3))\n",
    "    a[:, 0] = 1\n",
    "    a[:, 1] = x\n",
    "    a[:, 2] = x * x\n",
    "    \n",
    "    q, r = qr(a)\n",
    "    \n",
    "    b = y.reshape(-1, 1)\n",
    "    \n",
    "    return solve(r, q.T @ b)\n",
    "\n",
    "\n",
    "def draw_approximation(x, y):\n",
    "    \"\"\" Draws points and approximation function \n",
    "    \n",
    "    :arg\n",
    "        x: arguments of function which is being approximated\n",
    "        y: values of that funtion\n",
    "    \"\"\"\n",
    "    coefficients = solve_system(x, y)\n",
    "    \n",
    "    points_x = np.linspace(-8, 8, 100)\n",
    "    points_y = coefficients[0] + coefficients[1] * points_x + coefficients[2] * (points_x ** 2)\n",
    "    \n",
    "    fig, ax = plt.subplots(1, 1, figsize=(15,10))\n",
    "    \n",
    "    ax.set_title(\"Approximation\")\n",
    "    ax.set_xlabel(\"x\")\n",
    "    ax.set_ylabel(\"y\")\n",
    "\n",
    "    ax.scatter(x, y, c=\"#FF0000\")\n",
    "    ax.plot(points_x, points_y, c=\"#00BB00\")\n",
    "    \n",
    "    plt.show()"
   ]
  },
  {
   "cell_type": "code",
   "execution_count": 126,
   "metadata": {},
   "outputs": [
    {
     "data": {
      "image/png": "[encoded data removed]",
      "text/plain": [
       "<Figure size 1080x720 with 1 Axes>"
      ]
     },
     "metadata": {
      "needs_background": "light"
     },
     "output_type": "display_data"
    }
   ],
   "source": [
    "x = np.array([x for x in range(-5, 6)])\n",
    "y = np.array([2, 7, 9, 12, 13, 14, 14, 13, 10, 8, 4])\n",
    "\n",
    "draw_approximation(x, y)"
   ]
  }
 ],
 "metadata": {
  "kernelspec": {
   "display_name": "Python 3",
   "language": "python",
   "name": "python3"
  },
  "language_info": {
   "codemirror_mode": {
    "name": "ipython",
    "version": 3
   },
   "file_extension": ".py",
   "mimetype": "text/x-python",
   "name": "python",
   "nbconvert_exporter": "python",
   "pygments_lexer": "ipython3",
   "version": "3.7.6"
  }
 },
 "nbformat": 4,
 "nbformat_minor": 4
}
