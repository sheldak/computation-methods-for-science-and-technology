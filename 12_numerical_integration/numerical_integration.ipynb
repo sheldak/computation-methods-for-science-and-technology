{
 "cells": [
  {
   "cell_type": "markdown",
   "metadata": {},
   "source": [
    "### Imports"
   ]
  },
  {
   "cell_type": "code",
   "execution_count": 49,
   "metadata": {},
   "outputs": [],
   "source": [
    "import numpy as np\n",
    "from scipy import integrate"
   ]
  },
  {
   "cell_type": "markdown",
   "metadata": {},
   "source": [
    "### Functions"
   ]
  },
  {
   "cell_type": "code",
   "execution_count": 50,
   "metadata": {},
   "outputs": [],
   "source": [
    "def f1(x):\n",
    "    return np.exp(-(x**2)) * (np.log(x) ** 2)\n",
    "\n",
    "\n",
    "def f2(x):\n",
    "    return 1 / (x**3 - 2*x - 5)\n",
    "\n",
    "\n",
    "def f3(x):\n",
    "    return x**5 * np.exp(-x) * np.sin(x)\n",
    "\n",
    "\n",
    "def f4(y, x):\n",
    "    return 1 / (np.sqrt(x + y) * (1 + x + y))\n",
    "\n",
    "\n",
    "def f5(y, x):\n",
    "    return x**2 + y**2"
   ]
  },
  {
   "cell_type": "markdown",
   "metadata": {},
   "source": [
    "### Composite Simpson's Rule"
   ]
  },
  {
   "cell_type": "code",
   "execution_count": 107,
   "metadata": {},
   "outputs": [],
   "source": [
    "def composite_simpson(x, y):\n",
    "    \"\"\" Integrates function using Composite Simpson's rule \n",
    "    \n",
    "    :arg\n",
    "        x: numpy array of equidistant nodes\n",
    "        y: numpy array of values of integrating function in nodes x\n",
    "        \n",
    "    :returns\n",
    "        integral of function having values `y` in points `x`\n",
    "    \"\"\"\n",
    "    h = x[1] - x[0]\n",
    "    n = x.shape[0] - 1\n",
    "\n",
    "    result = y[0] + y[n]\n",
    "    result += np.sum(2 * y[2:n-2:2])\n",
    "    result += np.sum(4 * y[1:n:2])\n",
    "    result *= h/3\n",
    "\n",
    "    return result\n",
    "\n",
    "\n",
    "def compare(f, x):\n",
    "    \"\"\" Compares result of my implementation of Composite Simpson's rule with \n",
    "        scipy function `scipy.integrate.simps`\n",
    "        \n",
    "    :arg\n",
    "        f: function to integrate\n",
    "        x: numpy array of equidistant nodes\n",
    "    \"\"\"\n",
    "    y = f(x)\n",
    "    composite_simpson_result = composite_simpson(x, y)\n",
    "    scipy_result = integrate.simps(y, x)\n",
    "    \n",
    "    print(f\"My implementation: {composite_simpson_result}\")\n",
    "    print(f\"Scipy function:     {scipy_result}\")"
   ]
  },
  {
   "cell_type": "markdown",
   "metadata": {},
   "source": [
    "#### f1"
   ]
  },
  {
   "cell_type": "code",
   "execution_count": 108,
   "metadata": {},
   "outputs": [
    {
     "name": "stdout",
     "output_type": "stream",
     "text": [
      "My implementation: 0.1437301304635193\n",
      "Scipy function:     0.1437301304635193\n"
     ]
    }
   ],
   "source": [
    "x = np.linspace(2, 100, 3)\n",
    "compare(f1, x)"
   ]
  },
  {
   "cell_type": "code",
   "execution_count": 109,
   "metadata": {},
   "outputs": [
    {
     "name": "stdout",
     "output_type": "stream",
     "text": [
      "My implementation: 0.003091484904816412\n",
      "Scipy function:     0.0030914849048164126\n"
     ]
    }
   ],
   "source": [
    "x = np.linspace(2, 100, 101)\n",
    "compare(f1, x)"
   ]
  },
  {
   "cell_type": "code",
   "execution_count": 110,
   "metadata": {},
   "outputs": [
    {
     "name": "stdout",
     "output_type": "stream",
     "text": [
      "My implementation: 0.0026092713288095024\n",
      "Scipy function:     0.0026092713288095527\n"
     ]
    }
   ],
   "source": [
    "x = np.linspace(2, 100, 10001)\n",
    "compare(f1, x)"
   ]
  },
  {
   "cell_type": "code",
   "execution_count": 111,
   "metadata": {},
   "outputs": [
    {
     "name": "stdout",
     "output_type": "stream",
     "text": [
      "My implementation: 87.39823665818885\n",
      "Scipy function:     87.39823665818886\n"
     ]
    }
   ],
   "source": [
    "x = np.linspace(0.1, 100, 3)\n",
    "compare(f1, x)"
   ]
  },
  {
   "cell_type": "code",
   "execution_count": 112,
   "metadata": {},
   "outputs": [
    {
     "name": "stdout",
     "output_type": "stream",
     "text": [
      "My implementation: 1.7561107962443157\n",
      "Scipy function:     1.756110796244316\n"
     ]
    }
   ],
   "source": [
    "x = np.linspace(0.1, 100, 101)\n",
    "compare(f1, x)"
   ]
  },
  {
   "cell_type": "code",
   "execution_count": 113,
   "metadata": {},
   "outputs": [
    {
     "name": "stdout",
     "output_type": "stream",
     "text": [
      "My implementation: 0.7591629474195613\n",
      "Scipy function:     0.7591629474195613\n"
     ]
    }
   ],
   "source": [
    "x = np.linspace(0.1, 100, 10001)\n",
    "compare(f1, x)"
   ]
  },
  {
   "cell_type": "markdown",
   "metadata": {},
   "source": [
    "#### f2"
   ]
  },
  {
   "cell_type": "code",
   "execution_count": 114,
   "metadata": {},
   "outputs": [
    {
     "name": "stdout",
     "output_type": "stream",
     "text": [
      "My implementation: 4.290174876265721e-08\n",
      "Scipy function:     -6.666666623764918\n"
     ]
    }
   ],
   "source": [
    "x = np.linspace(-100, 100, 5)\n",
    "compare(f2, x)"
   ]
  },
  {
   "cell_type": "code",
   "execution_count": 115,
   "metadata": {},
   "outputs": [
    {
     "name": "stdout",
     "output_type": "stream",
     "text": [
      "My implementation: -1.0578682875323842\n",
      "Scipy function:     -1.0578648621372755\n"
     ]
    }
   ],
   "source": [
    "x = np.linspace(-100, 100, 51)\n",
    "compare(f2, x)"
   ]
  },
  {
   "cell_type": "code",
   "execution_count": 116,
   "metadata": {},
   "outputs": [
    {
     "name": "stdout",
     "output_type": "stream",
     "text": [
      "My implementation: -0.4098884447578327\n",
      "Scipy function:     -0.40988843140580195\n"
     ]
    }
   ],
   "source": [
    "x = np.linspace(-100, 100, 10001)\n",
    "compare(f2, x)"
   ]
  },
  {
   "cell_type": "code",
   "execution_count": 117,
   "metadata": {},
   "outputs": [
    {
     "name": "stdout",
     "output_type": "stream",
     "text": [
      "My implementation: -166.66666644459872\n",
      "Scipy function:     -166.66666643126538\n"
     ]
    }
   ],
   "source": [
    "x = np.linspace(0, 10000, 5)\n",
    "compare(f2, x)"
   ]
  },
  {
   "cell_type": "code",
   "execution_count": 118,
   "metadata": {},
   "outputs": [
    {
     "name": "stdout",
     "output_type": "stream",
     "text": [
      "My implementation: -13.333295772483492\n",
      "Scipy function:     -13.33329577233279\n"
     ]
    }
   ],
   "source": [
    "x = np.linspace(0, 10000, 51)\n",
    "compare(f2, x)"
   ]
  },
  {
   "cell_type": "code",
   "execution_count": 119,
   "metadata": {},
   "outputs": [
    {
     "name": "stdout",
     "output_type": "stream",
     "text": [
      "My implementation: -0.8309142299026551\n",
      "Scipy function:     -0.830914229901988\n"
     ]
    }
   ],
   "source": [
    "x = np.linspace(0, 10000, 10001)\n",
    "compare(f2, x)"
   ]
  },
  {
   "cell_type": "markdown",
   "metadata": {},
   "source": [
    "#### f3"
   ]
  },
  {
   "cell_type": "code",
   "execution_count": 120,
   "metadata": {},
   "outputs": [
    {
     "name": "stdout",
     "output_type": "stream",
     "text": [
      "My implementation: -2000108807.603576\n",
      "Scipy function:     -2000108807.603576\n"
     ]
    }
   ],
   "source": [
    "x = np.linspace(-10, 10, 5)\n",
    "compare(f3, x)"
   ]
  },
  {
   "cell_type": "code",
   "execution_count": 121,
   "metadata": {},
   "outputs": [
    {
     "name": "stdout",
     "output_type": "stream",
     "text": [
      "My implementation: -4737485.795538517\n",
      "Scipy function:     -4737485.399726778\n"
     ]
    }
   ],
   "source": [
    "x = np.linspace(-10, 10, 51)\n",
    "compare(f3, x)"
   ]
  },
  {
   "cell_type": "code",
   "execution_count": 122,
   "metadata": {},
   "outputs": [
    {
     "name": "stdout",
     "output_type": "stream",
     "text": [
      "My implementation: -3447297.9997850335\n",
      "Scipy function:     -3447298.003063203\n"
     ]
    }
   ],
   "source": [
    "x = np.linspace(-10, 10, 10001)\n",
    "compare(f3, x)"
   ]
  },
  {
   "cell_type": "code",
   "execution_count": 123,
   "metadata": {},
   "outputs": [
    {
     "name": "stdout",
     "output_type": "stream",
     "text": [
      "My implementation: -23.643693525822794\n",
      "Scipy function:     -19.645843173835896\n"
     ]
    }
   ],
   "source": [
    "x = np.linspace(0, 5, 5)\n",
    "compare(f3, x)"
   ]
  },
  {
   "cell_type": "code",
   "execution_count": 124,
   "metadata": {},
   "outputs": [
    {
     "name": "stdout",
     "output_type": "stream",
     "text": [
      "My implementation: -17.45292168063606\n",
      "Scipy function:     -18.84554134401268\n"
     ]
    }
   ],
   "source": [
    "x = np.linspace(0, 5, 51)\n",
    "compare(f3, x)"
   ]
  },
  {
   "cell_type": "code",
   "execution_count": 125,
   "metadata": {},
   "outputs": [
    {
     "name": "stdout",
     "output_type": "stream",
     "text": [
      "My implementation: -18.838802731559404\n",
      "Scipy function:     -18.845535115270117\n"
     ]
    }
   ],
   "source": [
    "x = np.linspace(0, 5, 10001)\n",
    "compare(f3, x)"
   ]
  },
  {
   "cell_type": "markdown",
   "metadata": {},
   "source": [
    "### Trapezoidal rule for double integrals"
   ]
  },
  {
   "cell_type": "code",
   "execution_count": 126,
   "metadata": {},
   "outputs": [],
   "source": [
    "def trapezoidal_rule(f, x_min, x_max, x_n, y_min, y_max, y_n):\n",
    "    \"\"\" Makes double integration o funtion using Trapezoidal rule twice\n",
    "    \n",
    "    :arg\n",
    "        f:     function to integrate\n",
    "        x_min: lower integration limit of first integral\n",
    "        x_max: upper integration limit of first integral\n",
    "        x_n:   number of equidistant nodes to use in calculation for first integral\n",
    "        y_min: lower integration limit of second integral\n",
    "        y_max: upper integration limit of second integral\n",
    "        y_n:   number of equidistant nodes to use in calculation for second integral\n",
    "        \n",
    "    :returns\n",
    "        double integral of function f\n",
    "    \"\"\"\n",
    "    integral = 0\n",
    "\n",
    "    for i in range(x_n+1):\n",
    "        x = x_min + i * (x_max - x_min) / x_n\n",
    "        y = np.linspace(y_min[i], y_max[i], y_n + 1)\n",
    "\n",
    "        integral_y = np.sum(f(y, x))\n",
    "        integral_y += (f(y[0], x) + f(y[y_n], x)) / 2\n",
    "        integral_y *= (y_max[i] - y_min[i]) / y_n\n",
    "\n",
    "        if i == 0 or i == x_n:\n",
    "            integral_y /= 2\n",
    "\n",
    "        integral += integral_y\n",
    "\n",
    "    integral *= (x_max - x_min) / x_n\n",
    "\n",
    "    return integral\n",
    "\n",
    "\n",
    "def compare_for_f4(n):\n",
    "    \"\"\" Compares result of my implementation of Trapezoidal rule with \n",
    "        scipy function `scipy.integrate.dblquad` for f4\n",
    "        \n",
    "    :arg\n",
    "        n: number of equidistant nodes to use in both dimensions\n",
    "    \"\"\"\n",
    "    x_min = 1 / (n-1)\n",
    "    x_max = 1\n",
    "\n",
    "    y_min = np.zeros(n+1)\n",
    "    y_max = 1 - np.linspace(0, 1, n+1)\n",
    "\n",
    "    trapezoidal_result = trapezoidal_rule(f4, x_min, x_max, n-1, y_min, y_max, n)\n",
    "    scipy_result, _ = integrate.dblquad(f4, 0, 1, lambda _: 0, lambda x: 1-x)\n",
    "    \n",
    "    print(f\"My implementation: {trapezoidal_result}\")\n",
    "    print(f\"Scipy function: {scipy_result}\")\n",
    "    \n",
    "\n",
    "def compare_for_f5(n):\n",
    "    \"\"\" Compares result of my implementation of Trapezoidal rule with \n",
    "        scipy function `scipy.integrate.dblquad` for f5\n",
    "        \n",
    "    :arg\n",
    "        n: number of equidistant nodes to use in both dimensions\n",
    "    \"\"\"\n",
    "    x_min = -3\n",
    "    x_max = 3\n",
    "\n",
    "    y_min = np.empty(n + 1)\n",
    "    y_min.fill(-5)\n",
    "    y_max = np.empty(n+1)\n",
    "    y_max.fill(5)\n",
    "\n",
    "    trapezoidal_result = trapezoidal_rule(f5, x_min, x_max, n, y_min, y_max, n)\n",
    "    scipy_result, _ = integrate.dblquad(f5, -3, 3, lambda _: -5, lambda _: 5)\n",
    "    \n",
    "    print(f\"My implementation: {trapezoidal_result}\")\n",
    "    print(f\"Scipy function: {scipy_result}\")"
   ]
  },
  {
   "cell_type": "markdown",
   "metadata": {},
   "source": [
    "#### f4"
   ]
  },
  {
   "cell_type": "code",
   "execution_count": 127,
   "metadata": {},
   "outputs": [
    {
     "name": "stdout",
     "output_type": "stream",
     "text": [
      "My implementation: 0.43675042704670264\n",
      "Scipy function: 0.42920367320510433\n"
     ]
    }
   ],
   "source": [
    "n = 25\n",
    "\n",
    "compare_for_f4(n)"
   ]
  },
  {
   "cell_type": "code",
   "execution_count": 128,
   "metadata": {},
   "outputs": [
    {
     "name": "stdout",
     "output_type": "stream",
     "text": [
      "My implementation: 0.4298003551561472\n",
      "Scipy function: 0.42920367320510433\n"
     ]
    }
   ],
   "source": [
    "n = 500\n",
    "\n",
    "compare_for_f4(n)"
   ]
  },
  {
   "cell_type": "code",
   "execution_count": 129,
   "metadata": {},
   "outputs": [
    {
     "name": "stdout",
     "output_type": "stream",
     "text": [
      "My implementation: 0.42923528501380276\n",
      "Scipy function: 0.42920367320510433\n"
     ]
    }
   ],
   "source": [
    "n = 10000\n",
    "\n",
    "compare_for_f4(n)"
   ]
  },
  {
   "cell_type": "markdown",
   "metadata": {},
   "source": [
    "#### f5"
   ]
  },
  {
   "cell_type": "code",
   "execution_count": 130,
   "metadata": {},
   "outputs": [
    {
     "name": "stdout",
     "output_type": "stream",
     "text": [
      "My implementation: 816.6220800000001\n",
      "Scipy function: 680.0\n"
     ]
    }
   ],
   "source": [
    "n = 25\n",
    "\n",
    "compare_for_f5(n)"
   ]
  },
  {
   "cell_type": "code",
   "execution_count": 131,
   "metadata": {},
   "outputs": [
    {
     "name": "stdout",
     "output_type": "stream",
     "text": [
      "My implementation: 686.7254457599998\n",
      "Scipy function: 680.0\n"
     ]
    }
   ],
   "source": [
    "n = 500\n",
    "\n",
    "compare_for_f5(n)"
   ]
  },
  {
   "cell_type": "code",
   "execution_count": 132,
   "metadata": {},
   "outputs": [
    {
     "name": "stdout",
     "output_type": "stream",
     "text": [
      "My implementation: 680.3360136007187\n",
      "Scipy function: 680.0\n"
     ]
    }
   ],
   "source": [
    "n = 10000\n",
    "\n",
    "compare_for_f5(n)"
   ]
  },
  {
   "cell_type": "code",
   "execution_count": 133,
   "metadata": {},
   "outputs": [
    {
     "name": "stdout",
     "output_type": "stream",
     "text": [
      "My implementation: 680.0336001360073\n",
      "Scipy function: 680.0\n"
     ]
    }
   ],
   "source": [
    "n = 100000\n",
    "\n",
    "compare_for_f5(n)"
   ]
  }
 ],
 "metadata": {
  "kernelspec": {
   "display_name": "Python 3",
   "language": "python",
   "name": "python3"
  },
  "language_info": {
   "codemirror_mode": {
    "name": "ipython",
    "version": 3
   },
   "file_extension": ".py",
   "mimetype": "text/x-python",
   "name": "python",
   "nbconvert_exporter": "python",
   "pygments_lexer": "ipython3",
   "version": "3.7.6"
  }
 },
 "nbformat": 4,
 "nbformat_minor": 4
}
